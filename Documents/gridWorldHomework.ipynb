{
 "cells": [
  {
   "cell_type": "markdown",
   "id": "aa78f2c3",
   "metadata": {},
   "source": [
    "# Homework2"
   ]
  },
  {
   "cell_type": "code",
   "execution_count": 60,
   "id": "f8679902",
   "metadata": {},
   "outputs": [],
   "source": [
    "import numpy as np\n",
    "import pandas as pd"
   ]
  },
  {
   "cell_type": "code",
   "execution_count": 61,
   "id": "c276e050",
   "metadata": {},
   "outputs": [],
   "source": [
    "\n",
    "x_data = np.array([[0, 0, 0, 0, 1, 1, 1, 0],[1, 0, 0, 0, 0, 0, 1, 1],[1, 1, 1, 0, 0, 0, 0, 0], [0, 0, 1, 1, 1, 0, 0, 0],\n",
    "                   [0, 0, 0, 0, 1, 1, 1, 0],[1, 0, 0, 0, 0, 0, 1, 1],[1, 1, 1, 0, 0, 0, 0, 0],[0, 0, 1, 1, 1, 0, 0, 0],\n",
    "                   [0, 0, 0, 0, 1, 1, 1, 0],[1, 0, 0, 0, 0, 0, 1, 1],[1, 1, 1, 0, 0, 0, 0, 0],[0, 0, 1, 1, 1, 0, 0, 0],\n",
    "                   [0, 0, 0, 0, 1, 1, 1, 0],[1, 0, 0, 0, 0, 0, 1, 1],[1, 1, 1, 0, 0, 0, 0, 0],[0, 0, 1, 1, 1, 0, 0, 0],\n",
    "                   [0, 0, 0, 0, 1, 1, 1, 0],[1, 0, 0, 0, 0, 0, 1, 1],[1, 1, 1, 0, 0, 0, 0, 0],[0, 0, 1, 1, 1, 0, 0, 0],\n",
    "                   [0, 0, 0, 0, 1, 1, 1, 0],[1, 0, 0, 0, 0, 0, 1, 1],[1, 1, 1, 0, 0, 0, 0, 0],[0, 0, 1, 1, 1, 0, 0, 0],\n",
    "                   [0, 0, 0, 0, 1, 1, 1, 0],[1, 0, 0, 0, 0, 0, 1, 1],[1, 1, 1, 0, 0, 0, 0, 0],[0, 0, 1, 1, 1, 0, 0, 0],\n",
    "                   [0, 0, 0, 0, 1, 1, 1, 0],[1, 0, 0, 0, 0, 0, 1, 1],[1, 1, 1, 0, 0, 0, 0, 0],[0, 0, 1, 1, 1, 0, 0, 0],\n",
    "                   [0, 0, 0, 0, 1, 1, 1, 0],[1, 0, 0, 0, 0, 0, 1, 1],[1, 1, 1, 0, 0, 0, 0, 0],[0, 0, 1, 1, 1, 0, 0, 0],\n",
    "                   [0, 0, 0, 0, 1, 1, 1, 0],[1, 0, 0, 0, 0, 0, 1, 1],[1, 1, 1, 0, 0, 0, 0, 0],[0, 0, 1, 1, 1, 0, 0, 0]])\n",
    "\n",
    "y_data = np.array([ 'e', 's', 'w', 'n','e', 's', 'w','n','e', 's', 'w', 'n','e', 's', 'w', 'n','e', 's', 'w', 'n','e', \n",
    "                    's', 'w', 'n','e', 's', 'w', 'n','e', 's', 'w', 'n','e', 's', 'w', 'n','e', 's', 'w', 'n'])\n"
   ]
  },
  {
   "cell_type": "code",
   "execution_count": 62,
   "id": "07e060f3",
   "metadata": {},
   "outputs": [
    {
     "name": "stdout",
     "output_type": "stream",
     "text": [
      "    0  1  2  3  4  5  6  7\n",
      "0   0  0  0  0  1  1  1  0\n",
      "1   1  0  0  0  0  0  1  1\n",
      "2   1  1  1  0  0  0  0  0\n",
      "3   0  0  1  1  1  0  0  0\n",
      "4   0  0  0  0  1  1  1  0\n",
      "5   1  0  0  0  0  0  1  1\n",
      "6   1  1  1  0  0  0  0  0\n",
      "7   0  0  1  1  1  0  0  0\n",
      "8   0  0  0  0  1  1  1  0\n",
      "9   1  0  0  0  0  0  1  1\n",
      "10  1  1  1  0  0  0  0  0\n",
      "11  0  0  1  1  1  0  0  0\n",
      "12  0  0  0  0  1  1  1  0\n",
      "13  1  0  0  0  0  0  1  1\n",
      "14  1  1  1  0  0  0  0  0\n",
      "15  0  0  1  1  1  0  0  0\n",
      "16  0  0  0  0  1  1  1  0\n",
      "17  1  0  0  0  0  0  1  1\n",
      "18  1  1  1  0  0  0  0  0\n",
      "19  0  0  1  1  1  0  0  0\n",
      "20  0  0  0  0  1  1  1  0\n",
      "21  1  0  0  0  0  0  1  1\n",
      "22  1  1  1  0  0  0  0  0\n",
      "23  0  0  1  1  1  0  0  0\n",
      "24  0  0  0  0  1  1  1  0\n",
      "25  1  0  0  0  0  0  1  1\n",
      "26  1  1  1  0  0  0  0  0\n",
      "27  0  0  1  1  1  0  0  0\n",
      "28  0  0  0  0  1  1  1  0\n",
      "29  1  0  0  0  0  0  1  1\n",
      "30  1  1  1  0  0  0  0  0\n",
      "31  0  0  1  1  1  0  0  0\n",
      "32  0  0  0  0  1  1  1  0\n",
      "33  1  0  0  0  0  0  1  1\n",
      "34  1  1  1  0  0  0  0  0\n",
      "35  0  0  1  1  1  0  0  0\n",
      "36  0  0  0  0  1  1  1  0\n",
      "37  1  0  0  0  0  0  1  1\n",
      "38  1  1  1  0  0  0  0  0\n",
      "39  0  0  1  1  1  0  0  0\n"
     ]
    }
   ],
   "source": [
    "df = pd.DataFrame(x_data)\n",
    "\n",
    "print(df)"
   ]
  },
  {
   "cell_type": "code",
   "execution_count": 63,
   "id": "f2853584",
   "metadata": {},
   "outputs": [
    {
     "data": {
      "text/plain": [
       "(40, 8)"
      ]
     },
     "execution_count": 63,
     "metadata": {},
     "output_type": "execute_result"
    }
   ],
   "source": [
    "x_data.shape"
   ]
  },
  {
   "cell_type": "code",
   "execution_count": 64,
   "id": "14129360",
   "metadata": {},
   "outputs": [
    {
     "data": {
      "text/plain": [
       "(40,)"
      ]
     },
     "execution_count": 64,
     "metadata": {},
     "output_type": "execute_result"
    }
   ],
   "source": [
    "y_data.shape"
   ]
  },
  {
   "cell_type": "code",
   "execution_count": 65,
   "id": "78b24276",
   "metadata": {},
   "outputs": [
    {
     "name": "stdout",
     "output_type": "stream",
     "text": [
      "    0\n",
      "0   e\n",
      "1   s\n",
      "2   w\n",
      "3   n\n",
      "4   e\n",
      "5   s\n",
      "6   w\n",
      "7   n\n",
      "8   e\n",
      "9   s\n",
      "10  w\n",
      "11  n\n",
      "12  e\n",
      "13  s\n",
      "14  w\n",
      "15  n\n",
      "16  e\n",
      "17  s\n",
      "18  w\n",
      "19  n\n",
      "20  e\n",
      "21  s\n",
      "22  w\n",
      "23  n\n",
      "24  e\n",
      "25  s\n",
      "26  w\n",
      "27  n\n",
      "28  e\n",
      "29  s\n",
      "30  w\n",
      "31  n\n",
      "32  e\n",
      "33  s\n",
      "34  w\n",
      "35  n\n",
      "36  e\n",
      "37  s\n",
      "38  w\n",
      "39  n\n"
     ]
    }
   ],
   "source": [
    "df = pd.DataFrame(y_data)\n",
    "\n",
    "print(df)"
   ]
  },
  {
   "cell_type": "code",
   "execution_count": 66,
   "id": "6fcb63b1",
   "metadata": {},
   "outputs": [
    {
     "data": {
      "text/plain": [
       "(40,)"
      ]
     },
     "execution_count": 66,
     "metadata": {},
     "output_type": "execute_result"
    }
   ],
   "source": [
    "y_data.shape"
   ]
  },
  {
   "cell_type": "code",
   "execution_count": 69,
   "id": "99dc371d",
   "metadata": {},
   "outputs": [
    {
     "data": {
      "image/png": "[encoded data removed]",
      "text/plain": [
       "<Figure size 640x480 with 1 Axes>"
      ]
     },
     "metadata": {},
     "output_type": "display_data"
    },
    {
     "name": "stdout",
     "output_type": "stream",
     "text": [
      "training over at iteration  796\n",
      "W1 = [[ 3.27743546e-16  8.45634427e-01  2.15260934e-01 -2.73666022e-01\n",
      "  -5.10358063e-19 -7.63378379e-01  1.88354607e-01  8.53424004e-02]\n",
      " [-8.19031300e-03  6.43267410e-01  6.31207145e-01 -3.25208178e-02\n",
      "  -1.43038272e-02  5.43111994e-01  2.11093232e-02  2.73372894e-01]\n",
      " [-9.39433958e-15  5.90297462e-01 -3.77551404e-02 -4.39733078e-01\n",
      "   3.97590390e-08 -2.32515357e-01 -5.22543579e-01  1.03213475e+00]\n",
      " [-3.95328073e-20 -6.18082534e-01 -2.90693854e-01  2.96176220e-01\n",
      "  -6.02992957e-07 -5.38973279e-01  1.21691307e-12  1.10959119e+00]\n",
      " [ 3.14936816e-19 -4.16219159e-01 -2.53060331e-01  7.97166730e-01\n",
      "  -8.79911491e-02  2.22732576e-01 -7.69925283e-01  4.01423466e-01]\n",
      " [-5.46272897e-02 -3.50727214e-02 -2.71930904e-01 -1.93908983e-01\n",
      "  -2.34492768e-02  4.40304870e-01 -5.60634482e-01 -3.73174955e-01]\n",
      " [-4.77671894e-03 -6.65085968e-01 -5.66690919e-02  2.64987784e-01\n",
      "  -1.67498494e-08  1.01574306e+00  1.01719657e+00  3.86403486e-02]\n",
      " [ 2.33589449e-02 -6.24356214e-01  9.52165598e-01  4.43030402e-01\n",
      "  -1.28430726e-03 -3.84183497e-01  1.08381656e-01 -4.76200362e-01]]\n",
      "b1 = [-0.10517971  0.44380087  0.58138352  0.7458971  -0.13519307  0.54866389\n",
      "  0.31330693  0.49185077]\n",
      "Wo = [[ 4.96378082e-02 -3.94878402e-02 -1.42293026e-04  1.03994270e-01]\n",
      " [-1.50422102e-01 -4.73428581e-01 -2.19861171e-01  9.75079090e-01]\n",
      " [-1.62648220e-01 -9.82990331e-01  1.30925978e+00  9.56783958e-01]\n",
      " [ 9.01570648e-01  3.80819883e-01  8.19001987e-01 -1.15488112e+00]\n",
      " [-4.23788998e-02  9.37643629e-02  1.20704103e-01 -1.22781941e-02]\n",
      " [ 9.48410130e-01 -9.04206988e-01 -9.35482160e-01 -3.37720493e-02]\n",
      " [-8.91035065e-01  1.97587376e-01  1.03992121e+00 -8.41974984e-01]\n",
      " [-7.51545992e-01  7.19815029e-01 -7.48055667e-01  1.88101134e-01]]\n",
      "bo = [-0.19597524 -0.00182705 -0.55105359 -0.15045509]\n",
      "Target =  ['e' 's' 'w' 'n' 'e' 's' 'w' 'n' 'e' 's' 'w' 'n' 'e' 's' 'w' 'n' 'e' 's'\n",
      " 'w' 'n' 'e' 's' 'w' 'n' 'e' 's' 'w' 'n' 'e' 's' 'w' 'n' 'e' 's' 'w' 'n'\n",
      " 'e' 's' 'w' 'n']\n",
      "Accuracy =  1.0\n"
     ]
    }
   ],
   "source": [
    "import numpy as np\n",
    "import matplotlib.pyplot as plt\n",
    "from sklearn.neural_network import MLPClassifier\n",
    "def fun7_MLPC():\n",
    "    net = MLPClassifier(hidden_layer_sizes = (8,), learning_rate_init=0.001, max_iter=1000)\n",
    "    net.fit(x_data, y_data)\n",
    "    output = net.predict(x_data)\n",
    "    accuracy = net.score(x_data, y_data)\n",
    "    plt.plot(net.loss_curve_)\n",
    "    plt.show()\n",
    "    print('training over at iteration ', net.n_iter_)\n",
    "    print('W1 = {}'. format(net.coefs_[0]))\n",
    "    print('b1 = {}'. format(net.intercepts_[0]))\n",
    "    print('Wo = {}'. format(net.coefs_[1]))\n",
    "    print('bo = {}'. format(net.intercepts_[1]))\n",
    "    print('Target = ', output)\n",
    "    print('Accuracy = ', accuracy)\n",
    "fun7_MLPC()"
   ]
  },
  {
   "cell_type": "code",
   "execution_count": null,
   "id": "ac4e4e37",
   "metadata": {},
   "outputs": [],
   "source": []
  }
 ],
 "metadata": {
  "kernelspec": {
   "display_name": "Python 3 (ipykernel)",
   "language": "python",
   "name": "python3"
  },
  "language_info": {
   "codemirror_mode": {
    "name": "ipython",
    "version": 3
   },
   "file_extension": ".py",
   "mimetype": "text/x-python",
   "name": "python",
   "nbconvert_exporter": "python",
   "pygments_lexer": "ipython3",
   "version": "3.9.13"
  }
 },
 "nbformat": 4,
 "nbformat_minor": 5
}
