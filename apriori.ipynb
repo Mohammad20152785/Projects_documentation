{
 "cells": [
  {
   "cell_type": "markdown",
   "id": "788485bc",
   "metadata": {},
   "source": [
    "-Apriori algorithm developed by R Agrawal and R Srikant\n",
    "- Shows how objects are associated with each other\n",
    "- Objective: to generate an associated with\n",
    "\n"
   ]
  },
  {
   "cell_type": "code",
   "execution_count": 26,
   "id": "e32c6242",
   "metadata": {},
   "outputs": [],
   "source": [
    "import pandas as pd"
   ]
  },
  {
   "cell_type": "markdown",
   "id": "f7bff776",
   "metadata": {},
   "source": [
    "Example:\n",
    "    minimum support = 50%\n",
    "    threshold confidence = 70%"
   ]
  },
  {
   "cell_type": "code",
   "execution_count": 53,
   "id": "bb97b88a",
   "metadata": {},
   "outputs": [
    {
     "data": {
      "text/html": [
       "<div>\n",
       "<style scoped>\n",
       "    .dataframe tbody tr th:only-of-type {\n",
       "        vertical-align: middle;\n",
       "    }\n",
       "\n",
       "    .dataframe tbody tr th {\n",
       "        vertical-align: top;\n",
       "    }\n",
       "\n",
       "    .dataframe thead th {\n",
       "        text-align: right;\n",
       "    }\n",
       "</style>\n",
       "<table border=\"1\" class=\"dataframe\">\n",
       "  <thead>\n",
       "    <tr style=\"text-align: right;\">\n",
       "      <th></th>\n",
       "      <th>Transaction ID</th>\n",
       "      <th>Items</th>\n",
       "    </tr>\n",
       "  </thead>\n",
       "  <tbody>\n",
       "    <tr>\n",
       "      <th>0</th>\n",
       "      <td>T100</td>\n",
       "      <td>Bread, Egg, Milk</td>\n",
       "    </tr>\n",
       "    <tr>\n",
       "      <th>1</th>\n",
       "      <td>T200</td>\n",
       "      <td>Butter, Egg, Cookies</td>\n",
       "    </tr>\n",
       "    <tr>\n",
       "      <th>2</th>\n",
       "      <td>T300</td>\n",
       "      <td>Bread, Butter, Egg, Cookies</td>\n",
       "    </tr>\n",
       "    <tr>\n",
       "      <th>3</th>\n",
       "      <td>T400</td>\n",
       "      <td>Butter, Cookies</td>\n",
       "    </tr>\n",
       "  </tbody>\n",
       "</table>\n",
       "</div>"
      ],
      "text/plain": [
       "  Transaction ID                        Items\n",
       "0           T100             Bread, Egg, Milk\n",
       "1           T200         Butter, Egg, Cookies\n",
       "2           T300  Bread, Butter, Egg, Cookies\n",
       "3           T400              Butter, Cookies"
      ]
     },
     "execution_count": 53,
     "metadata": {},
     "output_type": "execute_result"
    }
   ],
   "source": [
    "#create a dataset\n",
    "df = pd.DataFrame(\n",
    "    {\n",
    "        \"Transaction ID\": [\"T100\", \"T200\", \"T300\", \"T400\"],\n",
    "        \"Items\": [\"Bread, Egg, Milk\", \"Butter, Egg, Cookies\", \"Bread, Butter, Egg, Cookies\", \"Butter, Cookies\"],\n",
    "    })\n",
    "\n",
    "df"
   ]
  },
  {
   "cell_type": "markdown",
   "id": "af4e08d4",
   "metadata": {},
   "source": [
    "# Iteration 1"
   ]
  },
  {
   "cell_type": "code",
   "execution_count": 57,
   "id": "43b885c6",
   "metadata": {},
   "outputs": [
    {
     "data": {
      "text/html": [
       "<div>\n",
       "<style scoped>\n",
       "    .dataframe tbody tr th:only-of-type {\n",
       "        vertical-align: middle;\n",
       "    }\n",
       "\n",
       "    .dataframe tbody tr th {\n",
       "        vertical-align: top;\n",
       "    }\n",
       "\n",
       "    .dataframe thead th {\n",
       "        text-align: right;\n",
       "    }\n",
       "</style>\n",
       "<table border=\"1\" class=\"dataframe\">\n",
       "  <thead>\n",
       "    <tr style=\"text-align: right;\">\n",
       "      <th></th>\n",
       "      <th>ItemSet</th>\n",
       "      <th>Support</th>\n",
       "      <th>MinSupport</th>\n",
       "    </tr>\n",
       "  </thead>\n",
       "  <tbody>\n",
       "    <tr>\n",
       "      <th>0</th>\n",
       "      <td>Bread</td>\n",
       "      <td>2</td>\n",
       "      <td>1/4 = 25%</td>\n",
       "    </tr>\n",
       "    <tr>\n",
       "      <th>1</th>\n",
       "      <td>Butter</td>\n",
       "      <td>3</td>\n",
       "      <td>3/4 = 75%</td>\n",
       "    </tr>\n",
       "    <tr>\n",
       "      <th>2</th>\n",
       "      <td>Egg</td>\n",
       "      <td>3</td>\n",
       "      <td>3/4 = 75%</td>\n",
       "    </tr>\n",
       "    <tr>\n",
       "      <th>3</th>\n",
       "      <td>Milk</td>\n",
       "      <td>1</td>\n",
       "      <td>1/4 = 25%</td>\n",
       "    </tr>\n",
       "    <tr>\n",
       "      <th>4</th>\n",
       "      <td>Cookies</td>\n",
       "      <td>3</td>\n",
       "      <td>3/4 = 75%</td>\n",
       "    </tr>\n",
       "  </tbody>\n",
       "</table>\n",
       "</div>"
      ],
      "text/plain": [
       "   ItemSet  Support MinSupport\n",
       "0    Bread        2  1/4 = 25%\n",
       "1   Butter        3  3/4 = 75%\n",
       "2      Egg        3  3/4 = 75%\n",
       "3     Milk        1  1/4 = 25%\n",
       "4  Cookies        3  3/4 = 75%"
      ]
     },
     "execution_count": 57,
     "metadata": {},
     "output_type": "execute_result"
    }
   ],
   "source": [
    "df = pd.DataFrame(\n",
    "    {\n",
    "        \"ItemSet\": [\"Bread\", \"Butter\", \"Egg\", \"Milk\",\"Cookies\" ],\n",
    "        \"Support\": [2,3,3,1,3],\n",
    "        \n",
    "        \"MinSupport\": [\"1/4 = 25%\", \"3/4 = 75%\", \"3/4 = 75%\", \"1/4 = 25%\",\"3/4 = 75%\" ],\n",
    "    })\n",
    "\n",
    "df"
   ]
  },
  {
   "cell_type": "code",
   "execution_count": 58,
   "id": "e248a537",
   "metadata": {},
   "outputs": [
    {
     "data": {
      "text/html": [
       "<div>\n",
       "<style scoped>\n",
       "    .dataframe tbody tr th:only-of-type {\n",
       "        vertical-align: middle;\n",
       "    }\n",
       "\n",
       "    .dataframe tbody tr th {\n",
       "        vertical-align: top;\n",
       "    }\n",
       "\n",
       "    .dataframe thead th {\n",
       "        text-align: right;\n",
       "    }\n",
       "</style>\n",
       "<table border=\"1\" class=\"dataframe\">\n",
       "  <thead>\n",
       "    <tr style=\"text-align: right;\">\n",
       "      <th></th>\n",
       "      <th>ItemSet</th>\n",
       "      <th>Support</th>\n",
       "      <th>MinSupport</th>\n",
       "    </tr>\n",
       "  </thead>\n",
       "  <tbody>\n",
       "    <tr>\n",
       "      <th>1</th>\n",
       "      <td>Butter</td>\n",
       "      <td>3</td>\n",
       "      <td>3/4 = 75%</td>\n",
       "    </tr>\n",
       "    <tr>\n",
       "      <th>2</th>\n",
       "      <td>Egg</td>\n",
       "      <td>3</td>\n",
       "      <td>3/4 = 75%</td>\n",
       "    </tr>\n",
       "    <tr>\n",
       "      <th>4</th>\n",
       "      <td>Cookies</td>\n",
       "      <td>3</td>\n",
       "      <td>3/4 = 75%</td>\n",
       "    </tr>\n",
       "  </tbody>\n",
       "</table>\n",
       "</div>"
      ],
      "text/plain": [
       "   ItemSet  Support MinSupport\n",
       "1   Butter        3  3/4 = 75%\n",
       "2      Egg        3  3/4 = 75%\n",
       "4  Cookies        3  3/4 = 75%"
      ]
     },
     "execution_count": 58,
     "metadata": {},
     "output_type": "execute_result"
    }
   ],
   "source": [
    "#C1 --> F1\n",
    "df = df.drop(labels=[0,3], axis=0)\n",
    "df"
   ]
  },
  {
   "cell_type": "markdown",
   "id": "6441dbcb",
   "metadata": {},
   "source": [
    "# Iteration 2"
   ]
  },
  {
   "cell_type": "markdown",
   "id": "6d15ba58",
   "metadata": {},
   "source": [
    "From Pairs: \n",
    "(Bread, Butter, Egg, Cookies) = (Bread, Butter), (Bread, Egg), (Bread, Cookies),\n",
    "(Butter, Egg), (Butter, Cookies), (Egg, Cookies)"
   ]
  },
  {
   "cell_type": "code",
   "execution_count": 59,
   "id": "c31ff65d",
   "metadata": {},
   "outputs": [
    {
     "data": {
      "text/html": [
       "<div>\n",
       "<style scoped>\n",
       "    .dataframe tbody tr th:only-of-type {\n",
       "        vertical-align: middle;\n",
       "    }\n",
       "\n",
       "    .dataframe tbody tr th {\n",
       "        vertical-align: top;\n",
       "    }\n",
       "\n",
       "    .dataframe thead th {\n",
       "        text-align: right;\n",
       "    }\n",
       "</style>\n",
       "<table border=\"1\" class=\"dataframe\">\n",
       "  <thead>\n",
       "    <tr style=\"text-align: right;\">\n",
       "      <th></th>\n",
       "      <th>ItemSet</th>\n",
       "      <th>Support</th>\n",
       "      <th>MinSupport</th>\n",
       "    </tr>\n",
       "  </thead>\n",
       "  <tbody>\n",
       "    <tr>\n",
       "      <th>0</th>\n",
       "      <td>(Bread, Butter)</td>\n",
       "      <td>1</td>\n",
       "      <td>1/4 = 25%</td>\n",
       "    </tr>\n",
       "    <tr>\n",
       "      <th>1</th>\n",
       "      <td>(Bread, Egg)</td>\n",
       "      <td>2</td>\n",
       "      <td>2/4 = 50%</td>\n",
       "    </tr>\n",
       "    <tr>\n",
       "      <th>2</th>\n",
       "      <td>(Bread, Cookies)</td>\n",
       "      <td>1</td>\n",
       "      <td>1/4 = 25%</td>\n",
       "    </tr>\n",
       "    <tr>\n",
       "      <th>3</th>\n",
       "      <td>(Butter, Egg)</td>\n",
       "      <td>2</td>\n",
       "      <td>2/4 = 50%</td>\n",
       "    </tr>\n",
       "    <tr>\n",
       "      <th>4</th>\n",
       "      <td>(Butter, Cookies)</td>\n",
       "      <td>3</td>\n",
       "      <td>3/4 = 75%</td>\n",
       "    </tr>\n",
       "    <tr>\n",
       "      <th>5</th>\n",
       "      <td>(Egg, Cookies)</td>\n",
       "      <td>2</td>\n",
       "      <td>2/4 = 50%</td>\n",
       "    </tr>\n",
       "  </tbody>\n",
       "</table>\n",
       "</div>"
      ],
      "text/plain": [
       "             ItemSet  Support MinSupport\n",
       "0    (Bread, Butter)        1  1/4 = 25%\n",
       "1       (Bread, Egg)        2  2/4 = 50%\n",
       "2   (Bread, Cookies)        1  1/4 = 25%\n",
       "3      (Butter, Egg)        2  2/4 = 50%\n",
       "4  (Butter, Cookies)        3  3/4 = 75%\n",
       "5     (Egg, Cookies)        2  2/4 = 50%"
      ]
     },
     "execution_count": 59,
     "metadata": {},
     "output_type": "execute_result"
    }
   ],
   "source": [
    "df = pd.DataFrame(\n",
    "    {\n",
    "        \"ItemSet\": [\"(Bread, Butter)\", \"(Bread, Egg)\", \"(Bread, Cookies)\", \"(Butter, Egg)\",\"(Butter, Cookies)\", \"(Egg, Cookies)\" ],\n",
    "        \"Support\": [1,2,1,2,3,2],\n",
    "        \n",
    "        \"MinSupport\": [\"1/4 = 25%\", \"2/4 = 50%\", \"1/4 = 25%\", \"2/4 = 50%\", \"3/4 = 75%\", \"2/4 = 50%\" ],\n",
    "    })\n",
    "df\n",
    "    "
   ]
  },
  {
   "cell_type": "code",
   "execution_count": 60,
   "id": "ee7bda5c",
   "metadata": {},
   "outputs": [
    {
     "data": {
      "text/html": [
       "<div>\n",
       "<style scoped>\n",
       "    .dataframe tbody tr th:only-of-type {\n",
       "        vertical-align: middle;\n",
       "    }\n",
       "\n",
       "    .dataframe tbody tr th {\n",
       "        vertical-align: top;\n",
       "    }\n",
       "\n",
       "    .dataframe thead th {\n",
       "        text-align: right;\n",
       "    }\n",
       "</style>\n",
       "<table border=\"1\" class=\"dataframe\">\n",
       "  <thead>\n",
       "    <tr style=\"text-align: right;\">\n",
       "      <th></th>\n",
       "      <th>ItemSet</th>\n",
       "      <th>Support</th>\n",
       "      <th>MinSupport</th>\n",
       "    </tr>\n",
       "  </thead>\n",
       "  <tbody>\n",
       "    <tr>\n",
       "      <th>1</th>\n",
       "      <td>(Bread, Egg)</td>\n",
       "      <td>2</td>\n",
       "      <td>2/4 = 50%</td>\n",
       "    </tr>\n",
       "    <tr>\n",
       "      <th>3</th>\n",
       "      <td>(Butter, Egg)</td>\n",
       "      <td>2</td>\n",
       "      <td>2/4 = 50%</td>\n",
       "    </tr>\n",
       "    <tr>\n",
       "      <th>4</th>\n",
       "      <td>(Butter, Cookies)</td>\n",
       "      <td>3</td>\n",
       "      <td>3/4 = 75%</td>\n",
       "    </tr>\n",
       "    <tr>\n",
       "      <th>5</th>\n",
       "      <td>(Egg, Cookies)</td>\n",
       "      <td>2</td>\n",
       "      <td>2/4 = 50%</td>\n",
       "    </tr>\n",
       "  </tbody>\n",
       "</table>\n",
       "</div>"
      ],
      "text/plain": [
       "             ItemSet  Support MinSupport\n",
       "1       (Bread, Egg)        2  2/4 = 50%\n",
       "3      (Butter, Egg)        2  2/4 = 50%\n",
       "4  (Butter, Cookies)        3  3/4 = 75%\n",
       "5     (Egg, Cookies)        2  2/4 = 50%"
      ]
     },
     "execution_count": 60,
     "metadata": {},
     "output_type": "execute_result"
    }
   ],
   "source": [
    "#C2 --> F2\n",
    "df = df.drop(labels=[0,2], axis=0)\n",
    "df"
   ]
  },
  {
   "cell_type": "markdown",
   "id": "29e25469",
   "metadata": {},
   "source": [
    "# Iteration 3"
   ]
  },
  {
   "cell_type": "markdown",
   "id": "c7941231",
   "metadata": {},
   "source": [
    "\n",
    "ItemSet = (Bread, Egg), (Butter, Egg), (Butter,Cookies), (Egg, Cookies)\n",
    "\n",
    "Form Triples = (Bread, Butter, Egg), (Bread, Butter, Cookies), (Bread, Egg, Cookies), (Butter, Egg, Cookies)"
   ]
  },
  {
   "cell_type": "code",
   "execution_count": 67,
   "id": "dca25db2",
   "metadata": {},
   "outputs": [
    {
     "data": {
      "text/html": [
       "<div>\n",
       "<style scoped>\n",
       "    .dataframe tbody tr th:only-of-type {\n",
       "        vertical-align: middle;\n",
       "    }\n",
       "\n",
       "    .dataframe tbody tr th {\n",
       "        vertical-align: top;\n",
       "    }\n",
       "\n",
       "    .dataframe thead th {\n",
       "        text-align: right;\n",
       "    }\n",
       "</style>\n",
       "<table border=\"1\" class=\"dataframe\">\n",
       "  <thead>\n",
       "    <tr style=\"text-align: right;\">\n",
       "      <th></th>\n",
       "      <th>ItemSet</th>\n",
       "      <th>Support</th>\n",
       "      <th>MinSupport</th>\n",
       "    </tr>\n",
       "  </thead>\n",
       "  <tbody>\n",
       "    <tr>\n",
       "      <th>0</th>\n",
       "      <td>(Bread, Butter, Egg)</td>\n",
       "      <td>1</td>\n",
       "      <td>1/4 = 25%</td>\n",
       "    </tr>\n",
       "    <tr>\n",
       "      <th>1</th>\n",
       "      <td>(Bread, Butter, Cookies)</td>\n",
       "      <td>1</td>\n",
       "      <td>1/4= 25%</td>\n",
       "    </tr>\n",
       "    <tr>\n",
       "      <th>2</th>\n",
       "      <td>(Bread, Egg, Cookies)</td>\n",
       "      <td>1</td>\n",
       "      <td>1/4 = 25%</td>\n",
       "    </tr>\n",
       "    <tr>\n",
       "      <th>3</th>\n",
       "      <td>(Butter, Egg, Cookies)</td>\n",
       "      <td>2</td>\n",
       "      <td>2/4 =50%</td>\n",
       "    </tr>\n",
       "  </tbody>\n",
       "</table>\n",
       "</div>"
      ],
      "text/plain": [
       "                    ItemSet  Support MinSupport\n",
       "0      (Bread, Butter, Egg)        1  1/4 = 25%\n",
       "1  (Bread, Butter, Cookies)        1   1/4= 25%\n",
       "2     (Bread, Egg, Cookies)        1  1/4 = 25%\n",
       "3    (Butter, Egg, Cookies)        2   2/4 =50%"
      ]
     },
     "execution_count": 67,
     "metadata": {},
     "output_type": "execute_result"
    }
   ],
   "source": [
    "df = pd.DataFrame(\n",
    "    {\n",
    "        \"ItemSet\": [\"(Bread, Butter, Egg)\", \"(Bread, Butter, Cookies)\", \"(Bread, Egg, Cookies)\", \"(Butter, Egg, Cookies)\" ],\n",
    "        \"Support\": [1, 1, 1, 2],\n",
    "        \n",
    "        \"MinSupport\": [\"1/4 = 25%\", \"1/4= 25%\", \"1/4 = 25%\", \"2/4 =50%\"],\n",
    "    })\n",
    "df"
   ]
  },
  {
   "cell_type": "code",
   "execution_count": 68,
   "id": "db74c4fd",
   "metadata": {},
   "outputs": [
    {
     "data": {
      "text/html": [
       "<div>\n",
       "<style scoped>\n",
       "    .dataframe tbody tr th:only-of-type {\n",
       "        vertical-align: middle;\n",
       "    }\n",
       "\n",
       "    .dataframe tbody tr th {\n",
       "        vertical-align: top;\n",
       "    }\n",
       "\n",
       "    .dataframe thead th {\n",
       "        text-align: right;\n",
       "    }\n",
       "</style>\n",
       "<table border=\"1\" class=\"dataframe\">\n",
       "  <thead>\n",
       "    <tr style=\"text-align: right;\">\n",
       "      <th></th>\n",
       "      <th>ItemSet</th>\n",
       "      <th>Support</th>\n",
       "      <th>MinSupport</th>\n",
       "    </tr>\n",
       "  </thead>\n",
       "  <tbody>\n",
       "    <tr>\n",
       "      <th>3</th>\n",
       "      <td>(Butter, Egg, Cookies)</td>\n",
       "      <td>2</td>\n",
       "      <td>2/4 =50%</td>\n",
       "    </tr>\n",
       "  </tbody>\n",
       "</table>\n",
       "</div>"
      ],
      "text/plain": [
       "                  ItemSet  Support MinSupport\n",
       "3  (Butter, Egg, Cookies)        2   2/4 =50%"
      ]
     },
     "execution_count": 68,
     "metadata": {},
     "output_type": "execute_result"
    }
   ],
   "source": [
    "#C3 --> F3\n",
    "df = df.drop(labels= [0,1,2], axis=0)\n",
    "df"
   ]
  },
  {
   "cell_type": "markdown",
   "id": "8c22f623",
   "metadata": {},
   "source": [
    "# association rule"
   ]
  },
  {
   "cell_type": "markdown",
   "id": "b2b0afce",
   "metadata": {},
   "source": [
    "ItemSet: (Butter, Egg, Cookies) = (Butter, Egg), (Butter, Cookies), (Egg, Cookies)"
   ]
  },
  {
   "cell_type": "markdown",
   "id": "2ca3d5f4",
   "metadata": {},
   "source": [
    "(Butter^Egg)-->Cookies - Confidence = supp(AUB)/supp(A) = supp((Butter, Egg)U(Cookies))/ supp(Butter, Egg) = 2/2 = 100%\n",
    "(Butter^Egg)-->Egg - Confidence = supp(AUB)/supp(A) = supp((Butter, Egg)U(Cookies))/ supp(Butter, Egg) = 2/3 = 66%\n",
    "(Butter^Egg)--> Butter - Confidence = supp(AUB)/supp(A) = supp((Butter, Egg)U(Cookies))/ supp(Butter, Egg) = 2/2 = 100%\n",
    "Cookies-->(Butter^Egg) - Confidence = supp(AUB)/Freq(A) = supp((Butter, Egg)U(Cookies))/ supp(Butter, Egg) = 2/3 = 66%\n",
    "Egg-->(Butter^Egg) - Confidence = supp(AUB)/Freq(A) = supp((Butter, Egg)U(Cookies))/ supp(Butter, Egg) = 2/3 = 66%\n",
    "Butter-->(Butter^Egg) - Confidence = supp(AUB)/Freq(A) = supp((Butter, Egg)U(Cookies))/ supp(Butter, Egg) = 2/3 = 66%"
   ]
  },
  {
   "cell_type": "code",
   "execution_count": 70,
   "id": "0c9f5aee",
   "metadata": {},
   "outputs": [
    {
     "data": {
      "text/html": [
       "<div>\n",
       "<style scoped>\n",
       "    .dataframe tbody tr th:only-of-type {\n",
       "        vertical-align: middle;\n",
       "    }\n",
       "\n",
       "    .dataframe tbody tr th {\n",
       "        vertical-align: top;\n",
       "    }\n",
       "\n",
       "    .dataframe thead th {\n",
       "        text-align: right;\n",
       "    }\n",
       "</style>\n",
       "<table border=\"1\" class=\"dataframe\">\n",
       "  <thead>\n",
       "    <tr style=\"text-align: right;\">\n",
       "      <th></th>\n",
       "      <th>Association_Rules</th>\n",
       "      <th>Support</th>\n",
       "      <th>Confidence</th>\n",
       "    </tr>\n",
       "  </thead>\n",
       "  <tbody>\n",
       "    <tr>\n",
       "      <th>0</th>\n",
       "      <td>(Butter, Egg)--&gt; Cookies</td>\n",
       "      <td>2</td>\n",
       "      <td>2/2 =100%</td>\n",
       "    </tr>\n",
       "    <tr>\n",
       "      <th>1</th>\n",
       "      <td>(Butter, Cookies)--&gt; Egg</td>\n",
       "      <td>2</td>\n",
       "      <td>2/3 = 66%</td>\n",
       "    </tr>\n",
       "    <tr>\n",
       "      <th>2</th>\n",
       "      <td>(Egg, Cookies)--&gt; Butter</td>\n",
       "      <td>2</td>\n",
       "      <td>2/2 = 100%</td>\n",
       "    </tr>\n",
       "    <tr>\n",
       "      <th>3</th>\n",
       "      <td>Cookies--&gt; (Butter, Egg)</td>\n",
       "      <td>2</td>\n",
       "      <td>2/3 = 66%</td>\n",
       "    </tr>\n",
       "    <tr>\n",
       "      <th>4</th>\n",
       "      <td>Egg--&gt; (Butter, Cookies)</td>\n",
       "      <td>2</td>\n",
       "      <td>2/3 = 66%</td>\n",
       "    </tr>\n",
       "    <tr>\n",
       "      <th>5</th>\n",
       "      <td>Butter--&gt; (Egg, Cookies)</td>\n",
       "      <td>2</td>\n",
       "      <td>2/3 = 66%</td>\n",
       "    </tr>\n",
       "  </tbody>\n",
       "</table>\n",
       "</div>"
      ],
      "text/plain": [
       "          Association_Rules  Support  Confidence\n",
       "0  (Butter, Egg)--> Cookies        2  2/2 =100% \n",
       "1  (Butter, Cookies)--> Egg        2   2/3 = 66%\n",
       "2  (Egg, Cookies)--> Butter        2  2/2 = 100%\n",
       "3  Cookies--> (Butter, Egg)        2   2/3 = 66%\n",
       "4  Egg--> (Butter, Cookies)        2   2/3 = 66%\n",
       "5  Butter--> (Egg, Cookies)        2   2/3 = 66%"
      ]
     },
     "execution_count": 70,
     "metadata": {},
     "output_type": "execute_result"
    }
   ],
   "source": [
    "df = pd.DataFrame({\n",
    "        \"Association_Rules\": [\"(Butter, Egg)--> Cookies\", \"(Butter, Cookies)--> Egg\", \"(Egg, Cookies)--> Butter\", \n",
    "        \"Cookies--> (Butter, Egg)\", \"Egg--> (Butter, Cookies)\", \"Butter--> (Egg, Cookies)\"],\n",
    "        \"Support\": [2, 2, 2, 2, 2, 2],\n",
    "        \"Confidence\": [\"2/2 =100% \", \"2/3 = 66%\", \"2/2 = 100%\", \"2/3 = 66%\", \"2/3 = 66%\", \"2/3 = 66%\" ] , })\n",
    "df"
   ]
  },
  {
   "cell_type": "code",
   "execution_count": 71,
   "id": "92e60e5a",
   "metadata": {},
   "outputs": [
    {
     "data": {
      "text/html": [
       "<div>\n",
       "<style scoped>\n",
       "    .dataframe tbody tr th:only-of-type {\n",
       "        vertical-align: middle;\n",
       "    }\n",
       "\n",
       "    .dataframe tbody tr th {\n",
       "        vertical-align: top;\n",
       "    }\n",
       "\n",
       "    .dataframe thead th {\n",
       "        text-align: right;\n",
       "    }\n",
       "</style>\n",
       "<table border=\"1\" class=\"dataframe\">\n",
       "  <thead>\n",
       "    <tr style=\"text-align: right;\">\n",
       "      <th></th>\n",
       "      <th>Association_Rules</th>\n",
       "      <th>Support</th>\n",
       "      <th>Confidence</th>\n",
       "    </tr>\n",
       "  </thead>\n",
       "  <tbody>\n",
       "    <tr>\n",
       "      <th>0</th>\n",
       "      <td>(Butter, Egg)--&gt; Cookies</td>\n",
       "      <td>2</td>\n",
       "      <td>2/2 =100%</td>\n",
       "    </tr>\n",
       "    <tr>\n",
       "      <th>2</th>\n",
       "      <td>(Egg, Cookies)--&gt; Butter</td>\n",
       "      <td>2</td>\n",
       "      <td>2/2 = 100%</td>\n",
       "    </tr>\n",
       "  </tbody>\n",
       "</table>\n",
       "</div>"
      ],
      "text/plain": [
       "          Association_Rules  Support  Confidence\n",
       "0  (Butter, Egg)--> Cookies        2  2/2 =100% \n",
       "2  (Egg, Cookies)--> Butter        2  2/2 = 100%"
      ]
     },
     "execution_count": 71,
     "metadata": {},
     "output_type": "execute_result"
    }
   ],
   "source": [
    "df = df.drop(labels=[1,3,4,5], axis=0)\n",
    "df"
   ]
  },
  {
   "cell_type": "markdown",
   "id": "c18dd825",
   "metadata": {},
   "source": [
    "(Butter, Egg)--> Cookies and (Egg, Cookies)--> butter are association Rules."
   ]
  },
  {
   "cell_type": "code",
   "execution_count": null,
   "id": "c3c1804f",
   "metadata": {},
   "outputs": [],
   "source": []
  }
 ],
 "metadata": {
  "kernelspec": {
   "display_name": "Python 3 (ipykernel)",
   "language": "python",
   "name": "python3"
  },
  "language_info": {
   "codemirror_mode": {
    "name": "ipython",
    "version": 3
   },
   "file_extension": ".py",
   "mimetype": "text/x-python",
   "name": "python",
   "nbconvert_exporter": "python",
   "pygments_lexer": "ipython3",
   "version": "3.9.13"
  }
 },
 "nbformat": 4,
 "nbformat_minor": 5
}
